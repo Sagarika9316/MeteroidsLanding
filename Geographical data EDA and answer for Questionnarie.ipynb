{
 "cells": [
  {
   "cell_type": "code",
   "execution_count": 1,
   "id": "e6d2a46f",
   "metadata": {},
   "outputs": [],
   "source": [
    "import pandas as pd\n",
    "import matplotlib.pyplot as plt\n"
   ]
  },
  {
   "cell_type": "code",
   "execution_count": 2,
   "id": "6c3d5ae7",
   "metadata": {},
   "outputs": [
    {
     "data": {
      "text/html": [
       "<div>\n",
       "<style scoped>\n",
       "    .dataframe tbody tr th:only-of-type {\n",
       "        vertical-align: middle;\n",
       "    }\n",
       "\n",
       "    .dataframe tbody tr th {\n",
       "        vertical-align: top;\n",
       "    }\n",
       "\n",
       "    .dataframe thead th {\n",
       "        text-align: right;\n",
       "    }\n",
       "</style>\n",
       "<table border=\"1\" class=\"dataframe\">\n",
       "  <thead>\n",
       "    <tr style=\"text-align: right;\">\n",
       "      <th></th>\n",
       "      <th>name</th>\n",
       "      <th>id</th>\n",
       "      <th>nametype</th>\n",
       "      <th>recclass</th>\n",
       "      <th>mass</th>\n",
       "      <th>fall</th>\n",
       "      <th>year</th>\n",
       "      <th>reclat</th>\n",
       "      <th>reclong</th>\n",
       "      <th>GeoLocation</th>\n",
       "    </tr>\n",
       "  </thead>\n",
       "  <tbody>\n",
       "    <tr>\n",
       "      <th>0</th>\n",
       "      <td>Aachen</td>\n",
       "      <td>1</td>\n",
       "      <td>Valid</td>\n",
       "      <td>L5</td>\n",
       "      <td>21.0</td>\n",
       "      <td>Fell</td>\n",
       "      <td>1880.0</td>\n",
       "      <td>50.77500</td>\n",
       "      <td>6.08333</td>\n",
       "      <td>(50.775000, 6.083330)</td>\n",
       "    </tr>\n",
       "    <tr>\n",
       "      <th>1</th>\n",
       "      <td>Aarhus</td>\n",
       "      <td>2</td>\n",
       "      <td>Valid</td>\n",
       "      <td>H6</td>\n",
       "      <td>720.0</td>\n",
       "      <td>Fell</td>\n",
       "      <td>1951.0</td>\n",
       "      <td>56.18333</td>\n",
       "      <td>10.23333</td>\n",
       "      <td>(56.183330, 10.233330)</td>\n",
       "    </tr>\n",
       "    <tr>\n",
       "      <th>2</th>\n",
       "      <td>Abee</td>\n",
       "      <td>6</td>\n",
       "      <td>Valid</td>\n",
       "      <td>EH4</td>\n",
       "      <td>107000.0</td>\n",
       "      <td>Fell</td>\n",
       "      <td>1952.0</td>\n",
       "      <td>54.21667</td>\n",
       "      <td>-113.00000</td>\n",
       "      <td>(54.216670, -113.000000)</td>\n",
       "    </tr>\n",
       "    <tr>\n",
       "      <th>3</th>\n",
       "      <td>Acapulco</td>\n",
       "      <td>10</td>\n",
       "      <td>Valid</td>\n",
       "      <td>Acapulcoite</td>\n",
       "      <td>1914.0</td>\n",
       "      <td>Fell</td>\n",
       "      <td>1976.0</td>\n",
       "      <td>16.88333</td>\n",
       "      <td>-99.90000</td>\n",
       "      <td>(16.883330, -99.900000)</td>\n",
       "    </tr>\n",
       "    <tr>\n",
       "      <th>4</th>\n",
       "      <td>Achiras</td>\n",
       "      <td>370</td>\n",
       "      <td>Valid</td>\n",
       "      <td>L6</td>\n",
       "      <td>780.0</td>\n",
       "      <td>Fell</td>\n",
       "      <td>1902.0</td>\n",
       "      <td>-33.16667</td>\n",
       "      <td>-64.95000</td>\n",
       "      <td>(-33.166670, -64.950000)</td>\n",
       "    </tr>\n",
       "    <tr>\n",
       "      <th>...</th>\n",
       "      <td>...</td>\n",
       "      <td>...</td>\n",
       "      <td>...</td>\n",
       "      <td>...</td>\n",
       "      <td>...</td>\n",
       "      <td>...</td>\n",
       "      <td>...</td>\n",
       "      <td>...</td>\n",
       "      <td>...</td>\n",
       "      <td>...</td>\n",
       "    </tr>\n",
       "    <tr>\n",
       "      <th>45711</th>\n",
       "      <td>Zillah 002</td>\n",
       "      <td>31356</td>\n",
       "      <td>Valid</td>\n",
       "      <td>Eucrite</td>\n",
       "      <td>172.0</td>\n",
       "      <td>Found</td>\n",
       "      <td>1990.0</td>\n",
       "      <td>29.03700</td>\n",
       "      <td>17.01850</td>\n",
       "      <td>(29.037000, 17.018500)</td>\n",
       "    </tr>\n",
       "    <tr>\n",
       "      <th>45712</th>\n",
       "      <td>Zinder</td>\n",
       "      <td>30409</td>\n",
       "      <td>Valid</td>\n",
       "      <td>Pallasite, ungrouped</td>\n",
       "      <td>46.0</td>\n",
       "      <td>Found</td>\n",
       "      <td>1999.0</td>\n",
       "      <td>13.78333</td>\n",
       "      <td>8.96667</td>\n",
       "      <td>(13.783330, 8.966670)</td>\n",
       "    </tr>\n",
       "    <tr>\n",
       "      <th>45713</th>\n",
       "      <td>Zlin</td>\n",
       "      <td>30410</td>\n",
       "      <td>Valid</td>\n",
       "      <td>H4</td>\n",
       "      <td>3.3</td>\n",
       "      <td>Found</td>\n",
       "      <td>1939.0</td>\n",
       "      <td>49.25000</td>\n",
       "      <td>17.66667</td>\n",
       "      <td>(49.250000, 17.666670)</td>\n",
       "    </tr>\n",
       "    <tr>\n",
       "      <th>45714</th>\n",
       "      <td>Zubkovsky</td>\n",
       "      <td>31357</td>\n",
       "      <td>Valid</td>\n",
       "      <td>L6</td>\n",
       "      <td>2167.0</td>\n",
       "      <td>Found</td>\n",
       "      <td>2003.0</td>\n",
       "      <td>49.78917</td>\n",
       "      <td>41.50460</td>\n",
       "      <td>(49.789170, 41.504600)</td>\n",
       "    </tr>\n",
       "    <tr>\n",
       "      <th>45715</th>\n",
       "      <td>Zulu Queen</td>\n",
       "      <td>30414</td>\n",
       "      <td>Valid</td>\n",
       "      <td>L3.7</td>\n",
       "      <td>200.0</td>\n",
       "      <td>Found</td>\n",
       "      <td>1976.0</td>\n",
       "      <td>33.98333</td>\n",
       "      <td>-115.68333</td>\n",
       "      <td>(33.983330, -115.683330)</td>\n",
       "    </tr>\n",
       "  </tbody>\n",
       "</table>\n",
       "<p>45716 rows × 10 columns</p>\n",
       "</div>"
      ],
      "text/plain": [
       "             name     id nametype              recclass      mass   fall  \\\n",
       "0          Aachen      1    Valid                    L5      21.0   Fell   \n",
       "1          Aarhus      2    Valid                    H6     720.0   Fell   \n",
       "2            Abee      6    Valid                   EH4  107000.0   Fell   \n",
       "3        Acapulco     10    Valid           Acapulcoite    1914.0   Fell   \n",
       "4         Achiras    370    Valid                    L6     780.0   Fell   \n",
       "...           ...    ...      ...                   ...       ...    ...   \n",
       "45711  Zillah 002  31356    Valid               Eucrite     172.0  Found   \n",
       "45712      Zinder  30409    Valid  Pallasite, ungrouped      46.0  Found   \n",
       "45713        Zlin  30410    Valid                    H4       3.3  Found   \n",
       "45714   Zubkovsky  31357    Valid                    L6    2167.0  Found   \n",
       "45715  Zulu Queen  30414    Valid                  L3.7     200.0  Found   \n",
       "\n",
       "         year    reclat    reclong               GeoLocation  \n",
       "0      1880.0  50.77500    6.08333     (50.775000, 6.083330)  \n",
       "1      1951.0  56.18333   10.23333    (56.183330, 10.233330)  \n",
       "2      1952.0  54.21667 -113.00000  (54.216670, -113.000000)  \n",
       "3      1976.0  16.88333  -99.90000   (16.883330, -99.900000)  \n",
       "4      1902.0 -33.16667  -64.95000  (-33.166670, -64.950000)  \n",
       "...       ...       ...        ...                       ...  \n",
       "45711  1990.0  29.03700   17.01850    (29.037000, 17.018500)  \n",
       "45712  1999.0  13.78333    8.96667     (13.783330, 8.966670)  \n",
       "45713  1939.0  49.25000   17.66667    (49.250000, 17.666670)  \n",
       "45714  2003.0  49.78917   41.50460    (49.789170, 41.504600)  \n",
       "45715  1976.0  33.98333 -115.68333  (33.983330, -115.683330)  \n",
       "\n",
       "[45716 rows x 10 columns]"
      ]
     },
     "execution_count": 2,
     "metadata": {},
     "output_type": "execute_result"
    }
   ],
   "source": [
    "data_meto = pd.read_csv(\"meteorite-landings.csv\")\n",
    "data_meto"
   ]
  },
  {
   "cell_type": "code",
   "execution_count": 3,
   "id": "ad65a85b",
   "metadata": {},
   "outputs": [
    {
     "data": {
      "text/plain": [
       "name            object\n",
       "id               int64\n",
       "nametype        object\n",
       "recclass        object\n",
       "mass           float64\n",
       "fall            object\n",
       "year           float64\n",
       "reclat         float64\n",
       "reclong        float64\n",
       "GeoLocation     object\n",
       "dtype: object"
      ]
     },
     "execution_count": 3,
     "metadata": {},
     "output_type": "execute_result"
    }
   ],
   "source": [
    "data_meto.dtypes"
   ]
  },
  {
   "cell_type": "code",
   "execution_count": 4,
   "id": "07bcae46",
   "metadata": {},
   "outputs": [
    {
     "name": "stderr",
     "output_type": "stream",
     "text": [
      "C:\\Users\\sagarika\\AppData\\Local\\Temp\\ipykernel_9956\\1953485046.py:4: SettingWithCopyWarning: \n",
      "A value is trying to be set on a copy of a slice from a DataFrame.\n",
      "Try using .loc[row_indexer,col_indexer] = value instead\n",
      "\n",
      "See the caveats in the documentation: https://pandas.pydata.org/pandas-docs/stable/user_guide/indexing.html#returning-a-view-versus-a-copy\n",
      "  data_meto['year'] = data_meto['year'].astype(str).str[:-2].astype(str)\n"
     ]
    }
   ],
   "source": [
    "#filtering the columns which has year between 860 and 2016\n",
    "data_meto = data_meto[(data_meto['year'] >= 860.0) & (data_meto['year'] <= 2016.0)]\n",
    "#since the year should not have the '0' removing '0' at the end of the year\n",
    "data_meto['year'] = data_meto['year'].astype(str).str[:-2].astype(str)\n",
    "\n"
   ]
  },
  {
   "cell_type": "code",
   "execution_count": 5,
   "id": "74e65a62",
   "metadata": {},
   "outputs": [],
   "source": [
    "#As described in the data card a few entries have latitude and longitude of 0N/0E (off the western coast of Africa, where it would be quite difficult to recover meteorites). Many of these were actually discovered in Antarctica, but exact coordinates were not given. 0N/0E locations should probably be treated as NA."
   ]
  },
  {
   "cell_type": "markdown",
   "id": "f4b83e5a",
   "metadata": {},
   "source": [
    "Iam going to filter out latitudes and longitudes and take out all the weird locations"
   ]
  },
  {
   "cell_type": "code",
   "execution_count": 6,
   "id": "198a4784",
   "metadata": {},
   "outputs": [],
   "source": [
    "#filtering the columns whi\n",
    "data_meto = data_meto[(data_meto['reclong'] <= 180) & (data_meto['reclong'] >= -180) & ((data_meto['reclat'] != 0) | (data_meto['reclong'] != 0))]\n",
    "\n",
    "\n",
    "#since the year should not have the '0' removing '0' at the end of the year\n",
    "data_meto['year'] = data_meto['year'].astype(str).str[:-2].astype(str)"
   ]
  },
  {
   "cell_type": "code",
   "execution_count": 7,
   "id": "bd658d0c",
   "metadata": {},
   "outputs": [
    {
     "data": {
      "text/html": [
       "<div>\n",
       "<style scoped>\n",
       "    .dataframe tbody tr th:only-of-type {\n",
       "        vertical-align: middle;\n",
       "    }\n",
       "\n",
       "    .dataframe tbody tr th {\n",
       "        vertical-align: top;\n",
       "    }\n",
       "\n",
       "    .dataframe thead th {\n",
       "        text-align: right;\n",
       "    }\n",
       "</style>\n",
       "<table border=\"1\" class=\"dataframe\">\n",
       "  <thead>\n",
       "    <tr style=\"text-align: right;\">\n",
       "      <th></th>\n",
       "      <th>name</th>\n",
       "      <th>id</th>\n",
       "      <th>nametype</th>\n",
       "      <th>recclass</th>\n",
       "      <th>mass</th>\n",
       "      <th>fall</th>\n",
       "      <th>year</th>\n",
       "      <th>reclat</th>\n",
       "      <th>reclong</th>\n",
       "      <th>GeoLocation</th>\n",
       "    </tr>\n",
       "  </thead>\n",
       "  <tbody>\n",
       "    <tr>\n",
       "      <th>0</th>\n",
       "      <td>Aachen</td>\n",
       "      <td>1</td>\n",
       "      <td>Valid</td>\n",
       "      <td>L5</td>\n",
       "      <td>21.0</td>\n",
       "      <td>Fell</td>\n",
       "      <td>18</td>\n",
       "      <td>50.77500</td>\n",
       "      <td>6.08333</td>\n",
       "      <td>(50.775000, 6.083330)</td>\n",
       "    </tr>\n",
       "    <tr>\n",
       "      <th>1</th>\n",
       "      <td>Aarhus</td>\n",
       "      <td>2</td>\n",
       "      <td>Valid</td>\n",
       "      <td>H6</td>\n",
       "      <td>720.0</td>\n",
       "      <td>Fell</td>\n",
       "      <td>19</td>\n",
       "      <td>56.18333</td>\n",
       "      <td>10.23333</td>\n",
       "      <td>(56.183330, 10.233330)</td>\n",
       "    </tr>\n",
       "    <tr>\n",
       "      <th>2</th>\n",
       "      <td>Abee</td>\n",
       "      <td>6</td>\n",
       "      <td>Valid</td>\n",
       "      <td>EH4</td>\n",
       "      <td>107000.0</td>\n",
       "      <td>Fell</td>\n",
       "      <td>19</td>\n",
       "      <td>54.21667</td>\n",
       "      <td>-113.00000</td>\n",
       "      <td>(54.216670, -113.000000)</td>\n",
       "    </tr>\n",
       "    <tr>\n",
       "      <th>3</th>\n",
       "      <td>Acapulco</td>\n",
       "      <td>10</td>\n",
       "      <td>Valid</td>\n",
       "      <td>Acapulcoite</td>\n",
       "      <td>1914.0</td>\n",
       "      <td>Fell</td>\n",
       "      <td>19</td>\n",
       "      <td>16.88333</td>\n",
       "      <td>-99.90000</td>\n",
       "      <td>(16.883330, -99.900000)</td>\n",
       "    </tr>\n",
       "    <tr>\n",
       "      <th>4</th>\n",
       "      <td>Achiras</td>\n",
       "      <td>370</td>\n",
       "      <td>Valid</td>\n",
       "      <td>L6</td>\n",
       "      <td>780.0</td>\n",
       "      <td>Fell</td>\n",
       "      <td>19</td>\n",
       "      <td>-33.16667</td>\n",
       "      <td>-64.95000</td>\n",
       "      <td>(-33.166670, -64.950000)</td>\n",
       "    </tr>\n",
       "  </tbody>\n",
       "</table>\n",
       "</div>"
      ],
      "text/plain": [
       "       name   id nametype     recclass      mass  fall year    reclat  \\\n",
       "0    Aachen    1    Valid           L5      21.0  Fell   18  50.77500   \n",
       "1    Aarhus    2    Valid           H6     720.0  Fell   19  56.18333   \n",
       "2      Abee    6    Valid          EH4  107000.0  Fell   19  54.21667   \n",
       "3  Acapulco   10    Valid  Acapulcoite    1914.0  Fell   19  16.88333   \n",
       "4   Achiras  370    Valid           L6     780.0  Fell   19 -33.16667   \n",
       "\n",
       "     reclong               GeoLocation  \n",
       "0    6.08333     (50.775000, 6.083330)  \n",
       "1   10.23333    (56.183330, 10.233330)  \n",
       "2 -113.00000  (54.216670, -113.000000)  \n",
       "3  -99.90000   (16.883330, -99.900000)  \n",
       "4  -64.95000  (-33.166670, -64.950000)  "
      ]
     },
     "execution_count": 7,
     "metadata": {},
     "output_type": "execute_result"
    }
   ],
   "source": [
    "data_meto.head()"
   ]
  },
  {
   "cell_type": "markdown",
   "id": "5a2fb06e",
   "metadata": {},
   "source": [
    "Performing EDA on Data Set"
   ]
  },
  {
   "cell_type": "code",
   "execution_count": 8,
   "id": "f7cd6721",
   "metadata": {},
   "outputs": [
    {
     "data": {
      "text/plain": [
       "name             0\n",
       "id               0\n",
       "nametype         0\n",
       "recclass         0\n",
       "mass           107\n",
       "fall             0\n",
       "year             0\n",
       "reclat           0\n",
       "reclong          0\n",
       "GeoLocation      0\n",
       "dtype: int64"
      ]
     },
     "execution_count": 8,
     "metadata": {},
     "output_type": "execute_result"
    }
   ],
   "source": [
    "#cleaning the data set\n",
    "data_meto.isna().sum()"
   ]
  },
  {
   "cell_type": "code",
   "execution_count": 9,
   "id": "cb16ad57",
   "metadata": {},
   "outputs": [],
   "source": [
    "mean_mass = data_meto['mass'].mean()\n",
    "data_meto['mass'].fillna(mean_mass,inplace = True)"
   ]
  },
  {
   "cell_type": "code",
   "execution_count": 10,
   "id": "f852deff",
   "metadata": {},
   "outputs": [],
   "source": [
    "#Filling the null values of data frame of lattitudes and longitudes with 0.0 since I dont wish to do the mean and median for this data"
   ]
  },
  {
   "cell_type": "code",
   "execution_count": 11,
   "id": "3346bdd1",
   "metadata": {},
   "outputs": [
    {
     "data": {
      "text/plain": [
       "name           0\n",
       "id             0\n",
       "nametype       0\n",
       "recclass       0\n",
       "mass           0\n",
       "fall           0\n",
       "year           0\n",
       "reclat         0\n",
       "reclong        0\n",
       "GeoLocation    0\n",
       "dtype: int64"
      ]
     },
     "execution_count": 11,
     "metadata": {},
     "output_type": "execute_result"
    }
   ],
   "source": [
    "reclat = data_meto['reclat'].fillna(0.0,inplace=True)\n",
    "reclong = data_meto['reclong'].fillna(0.0,inplace=True)\n",
    "GeoLocation = data_meto['GeoLocation'].fillna(0.0,inplace=True)\n",
    "data_meto.isna().sum()"
   ]
  },
  {
   "cell_type": "code",
   "execution_count": 12,
   "id": "392fe8d7",
   "metadata": {},
   "outputs": [
    {
     "data": {
      "text/html": [
       "<div>\n",
       "<style scoped>\n",
       "    .dataframe tbody tr th:only-of-type {\n",
       "        vertical-align: middle;\n",
       "    }\n",
       "\n",
       "    .dataframe tbody tr th {\n",
       "        vertical-align: top;\n",
       "    }\n",
       "\n",
       "    .dataframe thead th {\n",
       "        text-align: right;\n",
       "    }\n",
       "</style>\n",
       "<table border=\"1\" class=\"dataframe\">\n",
       "  <thead>\n",
       "    <tr style=\"text-align: right;\">\n",
       "      <th></th>\n",
       "      <th>name</th>\n",
       "      <th>nametype</th>\n",
       "      <th>recclass</th>\n",
       "      <th>mass</th>\n",
       "      <th>fall</th>\n",
       "      <th>year</th>\n",
       "      <th>reclat</th>\n",
       "      <th>reclong</th>\n",
       "      <th>GeoLocation</th>\n",
       "    </tr>\n",
       "  </thead>\n",
       "  <tbody>\n",
       "    <tr>\n",
       "      <th>0</th>\n",
       "      <td>Aachen</td>\n",
       "      <td>Valid</td>\n",
       "      <td>L5</td>\n",
       "      <td>21.0</td>\n",
       "      <td>Fell</td>\n",
       "      <td>18</td>\n",
       "      <td>50.77500</td>\n",
       "      <td>6.08333</td>\n",
       "      <td>(50.775000, 6.083330)</td>\n",
       "    </tr>\n",
       "    <tr>\n",
       "      <th>1</th>\n",
       "      <td>Aarhus</td>\n",
       "      <td>Valid</td>\n",
       "      <td>H6</td>\n",
       "      <td>720.0</td>\n",
       "      <td>Fell</td>\n",
       "      <td>19</td>\n",
       "      <td>56.18333</td>\n",
       "      <td>10.23333</td>\n",
       "      <td>(56.183330, 10.233330)</td>\n",
       "    </tr>\n",
       "    <tr>\n",
       "      <th>2</th>\n",
       "      <td>Abee</td>\n",
       "      <td>Valid</td>\n",
       "      <td>EH4</td>\n",
       "      <td>107000.0</td>\n",
       "      <td>Fell</td>\n",
       "      <td>19</td>\n",
       "      <td>54.21667</td>\n",
       "      <td>-113.00000</td>\n",
       "      <td>(54.216670, -113.000000)</td>\n",
       "    </tr>\n",
       "    <tr>\n",
       "      <th>3</th>\n",
       "      <td>Acapulco</td>\n",
       "      <td>Valid</td>\n",
       "      <td>Acapulcoite</td>\n",
       "      <td>1914.0</td>\n",
       "      <td>Fell</td>\n",
       "      <td>19</td>\n",
       "      <td>16.88333</td>\n",
       "      <td>-99.90000</td>\n",
       "      <td>(16.883330, -99.900000)</td>\n",
       "    </tr>\n",
       "    <tr>\n",
       "      <th>4</th>\n",
       "      <td>Achiras</td>\n",
       "      <td>Valid</td>\n",
       "      <td>L6</td>\n",
       "      <td>780.0</td>\n",
       "      <td>Fell</td>\n",
       "      <td>19</td>\n",
       "      <td>-33.16667</td>\n",
       "      <td>-64.95000</td>\n",
       "      <td>(-33.166670, -64.950000)</td>\n",
       "    </tr>\n",
       "    <tr>\n",
       "      <th>...</th>\n",
       "      <td>...</td>\n",
       "      <td>...</td>\n",
       "      <td>...</td>\n",
       "      <td>...</td>\n",
       "      <td>...</td>\n",
       "      <td>...</td>\n",
       "      <td>...</td>\n",
       "      <td>...</td>\n",
       "      <td>...</td>\n",
       "    </tr>\n",
       "    <tr>\n",
       "      <th>45711</th>\n",
       "      <td>Zillah 002</td>\n",
       "      <td>Valid</td>\n",
       "      <td>Eucrite</td>\n",
       "      <td>172.0</td>\n",
       "      <td>Found</td>\n",
       "      <td>19</td>\n",
       "      <td>29.03700</td>\n",
       "      <td>17.01850</td>\n",
       "      <td>(29.037000, 17.018500)</td>\n",
       "    </tr>\n",
       "    <tr>\n",
       "      <th>45712</th>\n",
       "      <td>Zinder</td>\n",
       "      <td>Valid</td>\n",
       "      <td>Pallasite, ungrouped</td>\n",
       "      <td>46.0</td>\n",
       "      <td>Found</td>\n",
       "      <td>19</td>\n",
       "      <td>13.78333</td>\n",
       "      <td>8.96667</td>\n",
       "      <td>(13.783330, 8.966670)</td>\n",
       "    </tr>\n",
       "    <tr>\n",
       "      <th>45713</th>\n",
       "      <td>Zlin</td>\n",
       "      <td>Valid</td>\n",
       "      <td>H4</td>\n",
       "      <td>3.3</td>\n",
       "      <td>Found</td>\n",
       "      <td>19</td>\n",
       "      <td>49.25000</td>\n",
       "      <td>17.66667</td>\n",
       "      <td>(49.250000, 17.666670)</td>\n",
       "    </tr>\n",
       "    <tr>\n",
       "      <th>45714</th>\n",
       "      <td>Zubkovsky</td>\n",
       "      <td>Valid</td>\n",
       "      <td>L6</td>\n",
       "      <td>2167.0</td>\n",
       "      <td>Found</td>\n",
       "      <td>20</td>\n",
       "      <td>49.78917</td>\n",
       "      <td>41.50460</td>\n",
       "      <td>(49.789170, 41.504600)</td>\n",
       "    </tr>\n",
       "    <tr>\n",
       "      <th>45715</th>\n",
       "      <td>Zulu Queen</td>\n",
       "      <td>Valid</td>\n",
       "      <td>L3.7</td>\n",
       "      <td>200.0</td>\n",
       "      <td>Found</td>\n",
       "      <td>19</td>\n",
       "      <td>33.98333</td>\n",
       "      <td>-115.68333</td>\n",
       "      <td>(33.983330, -115.683330)</td>\n",
       "    </tr>\n",
       "  </tbody>\n",
       "</table>\n",
       "<p>32036 rows × 9 columns</p>\n",
       "</div>"
      ],
      "text/plain": [
       "             name nametype              recclass      mass   fall year  \\\n",
       "0          Aachen    Valid                    L5      21.0   Fell   18   \n",
       "1          Aarhus    Valid                    H6     720.0   Fell   19   \n",
       "2            Abee    Valid                   EH4  107000.0   Fell   19   \n",
       "3        Acapulco    Valid           Acapulcoite    1914.0   Fell   19   \n",
       "4         Achiras    Valid                    L6     780.0   Fell   19   \n",
       "...           ...      ...                   ...       ...    ...  ...   \n",
       "45711  Zillah 002    Valid               Eucrite     172.0  Found   19   \n",
       "45712      Zinder    Valid  Pallasite, ungrouped      46.0  Found   19   \n",
       "45713        Zlin    Valid                    H4       3.3  Found   19   \n",
       "45714   Zubkovsky    Valid                    L6    2167.0  Found   20   \n",
       "45715  Zulu Queen    Valid                  L3.7     200.0  Found   19   \n",
       "\n",
       "         reclat    reclong               GeoLocation  \n",
       "0      50.77500    6.08333     (50.775000, 6.083330)  \n",
       "1      56.18333   10.23333    (56.183330, 10.233330)  \n",
       "2      54.21667 -113.00000  (54.216670, -113.000000)  \n",
       "3      16.88333  -99.90000   (16.883330, -99.900000)  \n",
       "4     -33.16667  -64.95000  (-33.166670, -64.950000)  \n",
       "...         ...        ...                       ...  \n",
       "45711  29.03700   17.01850    (29.037000, 17.018500)  \n",
       "45712  13.78333    8.96667     (13.783330, 8.966670)  \n",
       "45713  49.25000   17.66667    (49.250000, 17.666670)  \n",
       "45714  49.78917   41.50460    (49.789170, 41.504600)  \n",
       "45715  33.98333 -115.68333  (33.983330, -115.683330)  \n",
       "\n",
       "[32036 rows x 9 columns]"
      ]
     },
     "execution_count": 12,
     "metadata": {},
     "output_type": "execute_result"
    }
   ],
   "source": [
    "#I think the ID is unique so im dropping the id column\n",
    "data_meto = data_meto.drop('id',axis=1)\n",
    "data_meto"
   ]
  },
  {
   "cell_type": "code",
   "execution_count": 13,
   "id": "6196ad73",
   "metadata": {},
   "outputs": [
    {
     "data": {
      "text/plain": [
       "<function matplotlib.pyplot.show(close=None, block=None)>"
      ]
     },
     "execution_count": 13,
     "metadata": {},
     "output_type": "execute_result"
    },
    {
     "data": {
      "image/png": "[encoded data removed]",
      "text/plain": [
       "<Figure size 640x480 with 1 Axes>"
      ]
     },
     "metadata": {},
     "output_type": "display_data"
    }
   ],
   "source": [
    "ax = data_meto[\"fall\"].value_counts().plot(kind='bar')\n",
    "plt.show"
   ]
  },
  {
   "cell_type": "code",
   "execution_count": 14,
   "id": "51dab755",
   "metadata": {},
   "outputs": [
    {
     "name": "stdout",
     "output_type": "stream",
     "text": [
      "Requirement already satisfied: geopandas in c:\\users\\sagarika\\miniconda3\\lib\\site-packages (0.14.0)\n",
      "Requirement already satisfied: matplotlib in c:\\users\\sagarika\\miniconda3\\lib\\site-packages (3.6.0)\n",
      "Requirement already satisfied: pyproj>=3.3.0 in c:\\users\\sagarika\\miniconda3\\lib\\site-packages (from geopandas) (3.6.1)\n",
      "Requirement already satisfied: shapely>=1.8.0 in c:\\users\\sagarika\\miniconda3\\lib\\site-packages (from geopandas) (2.0.1)\n",
      "Requirement already satisfied: pandas>=1.4.0 in c:\\users\\sagarika\\miniconda3\\lib\\site-packages (from geopandas) (1.4.4)\n",
      "Requirement already satisfied: fiona>=1.8.21 in c:\\users\\sagarika\\miniconda3\\lib\\site-packages (from geopandas) (1.9.4.post1)\n",
      "Requirement already satisfied: packaging in c:\\users\\sagarika\\miniconda3\\lib\\site-packages (from geopandas) (21.3)\n",
      "Requirement already satisfied: pyparsing>=2.2.1 in c:\\users\\sagarika\\miniconda3\\lib\\site-packages (from matplotlib) (3.0.9)\n",
      "Requirement already satisfied: python-dateutil>=2.7 in c:\\users\\sagarika\\miniconda3\\lib\\site-packages (from matplotlib) (2.8.2)\n",
      "Requirement already satisfied: fonttools>=4.22.0 in c:\\users\\sagarika\\miniconda3\\lib\\site-packages (from matplotlib) (4.37.4)\n",
      "Requirement already satisfied: numpy>=1.19 in c:\\users\\sagarika\\miniconda3\\lib\\site-packages (from matplotlib) (1.23.2)\n",
      "Requirement already satisfied: cycler>=0.10 in c:\\users\\sagarika\\miniconda3\\lib\\site-packages (from matplotlib) (0.11.0)\n",
      "Requirement already satisfied: kiwisolver>=1.0.1 in c:\\users\\sagarika\\miniconda3\\lib\\site-packages (from matplotlib) (1.4.4)\n",
      "Requirement already satisfied: pillow>=6.2.0 in c:\\users\\sagarika\\miniconda3\\lib\\site-packages (from matplotlib) (9.2.0)\n",
      "Requirement already satisfied: contourpy>=1.0.1 in c:\\users\\sagarika\\miniconda3\\lib\\site-packages (from matplotlib) (1.0.5)\n",
      "Requirement already satisfied: six in c:\\users\\sagarika\\miniconda3\\lib\\site-packages (from fiona>=1.8.21->geopandas) (1.16.0)\n",
      "Requirement already satisfied: click-plugins>=1.0 in c:\\users\\sagarika\\miniconda3\\lib\\site-packages (from fiona>=1.8.21->geopandas) (1.1.1)\n",
      "Requirement already satisfied: attrs>=19.2.0 in c:\\users\\sagarika\\miniconda3\\lib\\site-packages (from fiona>=1.8.21->geopandas) (22.1.0)\n",
      "Requirement already satisfied: click~=8.0 in c:\\users\\sagarika\\miniconda3\\lib\\site-packages (from fiona>=1.8.21->geopandas) (8.1.3)\n",
      "Requirement already satisfied: certifi in c:\\users\\sagarika\\miniconda3\\lib\\site-packages (from fiona>=1.8.21->geopandas) (2022.9.14)\n",
      "Requirement already satisfied: importlib-metadata in c:\\users\\sagarika\\miniconda3\\lib\\site-packages (from fiona>=1.8.21->geopandas) (6.8.0)\n",
      "Requirement already satisfied: cligj>=0.5 in c:\\users\\sagarika\\miniconda3\\lib\\site-packages (from fiona>=1.8.21->geopandas) (0.7.2)\n",
      "Requirement already satisfied: colorama in c:\\users\\sagarika\\miniconda3\\lib\\site-packages (from click~=8.0->fiona>=1.8.21->geopandas) (0.4.4)\n",
      "Requirement already satisfied: pytz>=2020.1 in c:\\users\\sagarika\\miniconda3\\lib\\site-packages (from pandas>=1.4.0->geopandas) (2022.2.1)\n",
      "Requirement already satisfied: zipp>=0.5 in c:\\users\\sagarika\\miniconda3\\lib\\site-packages (from importlib-metadata->fiona>=1.8.21->geopandas) (3.17.0)\n",
      "Note: you may need to restart the kernel to use updated packages.\n"
     ]
    }
   ],
   "source": [
    "pip install geopandas matplotlib\n"
   ]
  },
  {
   "cell_type": "code",
   "execution_count": 15,
   "id": "7e49ef34",
   "metadata": {},
   "outputs": [],
   "source": [
    "import geopandas as gpd"
   ]
  },
  {
   "cell_type": "code",
   "execution_count": 16,
   "id": "7b10a5ed",
   "metadata": {},
   "outputs": [],
   "source": [
    "gdf = gpd.GeoDataFrame(data_meto, \n",
    "                       geometry=gpd.points_from_xy(data_meto.reclat, data_meto.reclong))"
   ]
  },
  {
   "cell_type": "code",
   "execution_count": 17,
   "id": "a19c6be2",
   "metadata": {},
   "outputs": [],
   "source": [
    "#Create a new geopandas data frame from the given dataframe\n",
    "# Create a dictionary to map types to colors and sizes\n",
    "type_to_color = {'Fell': 'red', 'Found': 'blue'}\n",
    "type_to_size = {'Fell': 20, 'Found': 20}  # Adjust size values as needed"
   ]
  },
  {
   "cell_type": "code",
   "execution_count": 18,
   "id": "80f4e511",
   "metadata": {},
   "outputs": [
    {
     "name": "stderr",
     "output_type": "stream",
     "text": [
      "C:\\Users\\sagarika\\AppData\\Local\\Temp\\ipykernel_9956\\2074808111.py:7: FutureWarning: The geopandas.dataset module is deprecated and will be removed in GeoPandas 1.0. You can get the original 'naturalearth_lowres' data from https://www.naturalearthdata.com/downloads/110m-cultural-vectors/.\n",
      "  world = gpd.read_file(gpd.datasets.get_path('naturalearth_lowres'))\n"
     ]
    },
    {
     "data": {
      "image/png": "[encoded data removed]",
      "text/plain": [
       "<Figure size 1000x600 with 1 Axes>"
      ]
     },
     "metadata": {},
     "output_type": "display_data"
    }
   ],
   "source": [
    "# Apply the mapping to the GeoDataFrame\n",
    "gdf['Color'] = gdf['fall'].map(type_to_color)\n",
    "gdf['Size'] = gdf['fall'].map(type_to_size)\n",
    "\n",
    "# Create a cartogram-like plot with points\n",
    "fig, ax = plt.subplots(1, 1, figsize=(10, 6))\n",
    "world = gpd.read_file(gpd.datasets.get_path('naturalearth_lowres'))\n",
    "world.boundary.plot(ax=ax, linewidth=1.0, color='k')  # Plot country boundaries\n",
    "gdf.plot(column='Color', cmap='coolwarm', markersize=gdf['Size'], legend=True, ax=ax)\n",
    "ax.set_title('Customized \"Cartogram\" by Type')\n",
    "plt.show()"
   ]
  },
  {
   "cell_type": "markdown",
   "id": "4db91d51",
   "metadata": {},
   "source": [
    "As we can see from the above (cartogram) picture we can say that the found are more than the fell meteroids"
   ]
  },
  {
   "cell_type": "markdown",
   "id": "cd083a18",
   "metadata": {},
   "source": [
    "checking if there is any difference in the classes of meteroids that have fallen on earth"
   ]
  },
  {
   "cell_type": "code",
   "execution_count": 19,
   "id": "0eecb96a",
   "metadata": {},
   "outputs": [],
   "source": [
    "#choosing only the value of \"fell\" from the column"
   ]
  },
  {
   "cell_type": "code",
   "execution_count": 20,
   "id": "c55e4be9",
   "metadata": {},
   "outputs": [
    {
     "data": {
      "text/html": [
       "<div>\n",
       "<style scoped>\n",
       "    .dataframe tbody tr th:only-of-type {\n",
       "        vertical-align: middle;\n",
       "    }\n",
       "\n",
       "    .dataframe tbody tr th {\n",
       "        vertical-align: top;\n",
       "    }\n",
       "\n",
       "    .dataframe thead th {\n",
       "        text-align: right;\n",
       "    }\n",
       "</style>\n",
       "<table border=\"1\" class=\"dataframe\">\n",
       "  <thead>\n",
       "    <tr style=\"text-align: right;\">\n",
       "      <th></th>\n",
       "      <th>name</th>\n",
       "      <th>nametype</th>\n",
       "      <th>recclass</th>\n",
       "      <th>mass</th>\n",
       "      <th>fall</th>\n",
       "      <th>year</th>\n",
       "      <th>reclat</th>\n",
       "      <th>reclong</th>\n",
       "      <th>GeoLocation</th>\n",
       "    </tr>\n",
       "  </thead>\n",
       "  <tbody>\n",
       "    <tr>\n",
       "      <th>0</th>\n",
       "      <td>Aachen</td>\n",
       "      <td>Valid</td>\n",
       "      <td>L5</td>\n",
       "      <td>21.0</td>\n",
       "      <td>Fell</td>\n",
       "      <td>18</td>\n",
       "      <td>50.77500</td>\n",
       "      <td>6.08333</td>\n",
       "      <td>(50.775000, 6.083330)</td>\n",
       "    </tr>\n",
       "    <tr>\n",
       "      <th>1</th>\n",
       "      <td>Aarhus</td>\n",
       "      <td>Valid</td>\n",
       "      <td>H6</td>\n",
       "      <td>720.0</td>\n",
       "      <td>Fell</td>\n",
       "      <td>19</td>\n",
       "      <td>56.18333</td>\n",
       "      <td>10.23333</td>\n",
       "      <td>(56.183330, 10.233330)</td>\n",
       "    </tr>\n",
       "    <tr>\n",
       "      <th>2</th>\n",
       "      <td>Abee</td>\n",
       "      <td>Valid</td>\n",
       "      <td>EH4</td>\n",
       "      <td>107000.0</td>\n",
       "      <td>Fell</td>\n",
       "      <td>19</td>\n",
       "      <td>54.21667</td>\n",
       "      <td>-113.00000</td>\n",
       "      <td>(54.216670, -113.000000)</td>\n",
       "    </tr>\n",
       "    <tr>\n",
       "      <th>3</th>\n",
       "      <td>Acapulco</td>\n",
       "      <td>Valid</td>\n",
       "      <td>Acapulcoite</td>\n",
       "      <td>1914.0</td>\n",
       "      <td>Fell</td>\n",
       "      <td>19</td>\n",
       "      <td>16.88333</td>\n",
       "      <td>-99.90000</td>\n",
       "      <td>(16.883330, -99.900000)</td>\n",
       "    </tr>\n",
       "    <tr>\n",
       "      <th>4</th>\n",
       "      <td>Achiras</td>\n",
       "      <td>Valid</td>\n",
       "      <td>L6</td>\n",
       "      <td>780.0</td>\n",
       "      <td>Fell</td>\n",
       "      <td>19</td>\n",
       "      <td>-33.16667</td>\n",
       "      <td>-64.95000</td>\n",
       "      <td>(-33.166670, -64.950000)</td>\n",
       "    </tr>\n",
       "    <tr>\n",
       "      <th>...</th>\n",
       "      <td>...</td>\n",
       "      <td>...</td>\n",
       "      <td>...</td>\n",
       "      <td>...</td>\n",
       "      <td>...</td>\n",
       "      <td>...</td>\n",
       "      <td>...</td>\n",
       "      <td>...</td>\n",
       "      <td>...</td>\n",
       "    </tr>\n",
       "    <tr>\n",
       "      <th>1103</th>\n",
       "      <td>Zhuanghe</td>\n",
       "      <td>Valid</td>\n",
       "      <td>H5</td>\n",
       "      <td>2900.0</td>\n",
       "      <td>Fell</td>\n",
       "      <td>19</td>\n",
       "      <td>39.66667</td>\n",
       "      <td>122.98333</td>\n",
       "      <td>(39.666670, 122.983330)</td>\n",
       "    </tr>\n",
       "    <tr>\n",
       "      <th>1104</th>\n",
       "      <td>Zmenj</td>\n",
       "      <td>Valid</td>\n",
       "      <td>Howardite</td>\n",
       "      <td>246.0</td>\n",
       "      <td>Fell</td>\n",
       "      <td>18</td>\n",
       "      <td>51.83333</td>\n",
       "      <td>26.83333</td>\n",
       "      <td>(51.833330, 26.833330)</td>\n",
       "    </tr>\n",
       "    <tr>\n",
       "      <th>1105</th>\n",
       "      <td>Zomba</td>\n",
       "      <td>Valid</td>\n",
       "      <td>L6</td>\n",
       "      <td>7500.0</td>\n",
       "      <td>Fell</td>\n",
       "      <td>18</td>\n",
       "      <td>-15.18333</td>\n",
       "      <td>35.28333</td>\n",
       "      <td>(-15.183330, 35.283330)</td>\n",
       "    </tr>\n",
       "    <tr>\n",
       "      <th>1106</th>\n",
       "      <td>Zsadany</td>\n",
       "      <td>Valid</td>\n",
       "      <td>H5</td>\n",
       "      <td>552.0</td>\n",
       "      <td>Fell</td>\n",
       "      <td>18</td>\n",
       "      <td>46.93333</td>\n",
       "      <td>21.50000</td>\n",
       "      <td>(46.933330, 21.500000)</td>\n",
       "    </tr>\n",
       "    <tr>\n",
       "      <th>1107</th>\n",
       "      <td>Zvonkov</td>\n",
       "      <td>Valid</td>\n",
       "      <td>H6</td>\n",
       "      <td>2568.0</td>\n",
       "      <td>Fell</td>\n",
       "      <td>19</td>\n",
       "      <td>50.20000</td>\n",
       "      <td>30.25000</td>\n",
       "      <td>(50.200000, 30.250000)</td>\n",
       "    </tr>\n",
       "  </tbody>\n",
       "</table>\n",
       "<p>1096 rows × 9 columns</p>\n",
       "</div>"
      ],
      "text/plain": [
       "          name nametype     recclass      mass  fall year    reclat  \\\n",
       "0       Aachen    Valid           L5      21.0  Fell   18  50.77500   \n",
       "1       Aarhus    Valid           H6     720.0  Fell   19  56.18333   \n",
       "2         Abee    Valid          EH4  107000.0  Fell   19  54.21667   \n",
       "3     Acapulco    Valid  Acapulcoite    1914.0  Fell   19  16.88333   \n",
       "4      Achiras    Valid           L6     780.0  Fell   19 -33.16667   \n",
       "...        ...      ...          ...       ...   ...  ...       ...   \n",
       "1103  Zhuanghe    Valid           H5    2900.0  Fell   19  39.66667   \n",
       "1104     Zmenj    Valid    Howardite     246.0  Fell   18  51.83333   \n",
       "1105     Zomba    Valid           L6    7500.0  Fell   18 -15.18333   \n",
       "1106   Zsadany    Valid           H5     552.0  Fell   18  46.93333   \n",
       "1107   Zvonkov    Valid           H6    2568.0  Fell   19  50.20000   \n",
       "\n",
       "        reclong               GeoLocation  \n",
       "0       6.08333     (50.775000, 6.083330)  \n",
       "1      10.23333    (56.183330, 10.233330)  \n",
       "2    -113.00000  (54.216670, -113.000000)  \n",
       "3     -99.90000   (16.883330, -99.900000)  \n",
       "4     -64.95000  (-33.166670, -64.950000)  \n",
       "...         ...                       ...  \n",
       "1103  122.98333   (39.666670, 122.983330)  \n",
       "1104   26.83333    (51.833330, 26.833330)  \n",
       "1105   35.28333   (-15.183330, 35.283330)  \n",
       "1106   21.50000    (46.933330, 21.500000)  \n",
       "1107   30.25000    (50.200000, 30.250000)  \n",
       "\n",
       "[1096 rows x 9 columns]"
      ]
     },
     "execution_count": 20,
     "metadata": {},
     "output_type": "execute_result"
    }
   ],
   "source": [
    "df_fall = data_meto[data_meto['fall'] == 'Fell']\n",
    "df_fall"
   ]
  },
  {
   "cell_type": "markdown",
   "id": "4a6fdabd",
   "metadata": {},
   "source": [
    "Using mean, mode to find what is the most fallen place for the meteroids"
   ]
  },
  {
   "cell_type": "code",
   "execution_count": 21,
   "id": "f9d0a9a5",
   "metadata": {},
   "outputs": [
    {
     "name": "stdout",
     "output_type": "stream",
     "text": [
      "30.071265247262772\n"
     ]
    }
   ],
   "source": [
    "mean = df_fall['reclat'].mean()\n",
    "print(mean)"
   ]
  },
  {
   "cell_type": "code",
   "execution_count": 22,
   "id": "ce8d0a33",
   "metadata": {},
   "outputs": [
    {
     "name": "stdout",
     "output_type": "stream",
     "text": [
      "20.15274667518248\n"
     ]
    }
   ],
   "source": [
    "mean_long = df_fall['reclong'].mean()\n",
    "print(mean_long)"
   ]
  },
  {
   "cell_type": "code",
   "execution_count": 23,
   "id": "65e7619c",
   "metadata": {},
   "outputs": [
    {
     "name": "stdout",
     "output_type": "stream",
     "text": [
      "Requirement already satisfied: geopy in c:\\users\\sagarika\\miniconda3\\lib\\site-packages (2.4.0)\n",
      "Requirement already satisfied: geographiclib<3,>=1.52 in c:\\users\\sagarika\\miniconda3\\lib\\site-packages (from geopy) (2.0)\n",
      "Note: you may need to restart the kernel to use updated packages.\n"
     ]
    }
   ],
   "source": [
    "pip install geopy"
   ]
  },
  {
   "cell_type": "code",
   "execution_count": 24,
   "id": "9b3d1e9a",
   "metadata": {},
   "outputs": [],
   "source": [
    "from geopy.distance import geodesic"
   ]
  },
  {
   "cell_type": "code",
   "execution_count": 34,
   "id": "6b2ea8b7",
   "metadata": {},
   "outputs": [
    {
     "name": "stdout",
     "output_type": "stream",
     "text": [
      "                     name nametype   recclass      mass  fall year    reclat  \\\n",
      "0                  Aachen    Valid         L5      21.0  Fell   18  50.77500   \n",
      "1                  Aarhus    Valid         H6     720.0  Fell   19  56.18333   \n",
      "2                    Abee    Valid        EH4  107000.0  Fell   19  54.21667   \n",
      "5                Adhi Kot    Valid        EH4    4239.0  Fell   19  32.10000   \n",
      "6     Adzhi-Bogdo (stone)    Valid      LL3-6     910.0  Fell   19  44.83333   \n",
      "...                   ...      ...        ...       ...   ...  ...       ...   \n",
      "1103             Zhuanghe    Valid         H5    2900.0  Fell   19  39.66667   \n",
      "1104                Zmenj    Valid  Howardite     246.0  Fell   18  51.83333   \n",
      "1105                Zomba    Valid         L6    7500.0  Fell   18 -15.18333   \n",
      "1106              Zsadany    Valid         H5     552.0  Fell   18  46.93333   \n",
      "1107              Zvonkov    Valid         H6    2568.0  Fell   19  50.20000   \n",
      "\n",
      "        reclong               GeoLocation     Distance  \n",
      "0       6.08333     (50.775000, 6.083330)  2580.394968  \n",
      "1      10.23333    (56.183330, 10.233330)  3004.137794  \n",
      "2    -113.00000  (54.216670, -113.000000)  9643.697798  \n",
      "5      71.80000    (32.100000, 71.800000)  4885.677117  \n",
      "6      95.16667    (44.833330, 95.166670)  6596.965159  \n",
      "...         ...                       ...          ...  \n",
      "1103  122.98333   (39.666670, 122.983330)  8925.557633  \n",
      "1104   26.83333    (51.833330, 26.833330)  2478.862886  \n",
      "1105   35.28333   (-15.183330, 35.283330)  5263.887645  \n",
      "1106   21.50000    (46.933330, 21.500000)  1875.463285  \n",
      "1107   30.25000    (50.200000, 30.250000)  2389.867589  \n",
      "\n",
      "[928 rows x 10 columns]\n"
     ]
    }
   ],
   "source": [
    "\n",
    "\n",
    "# Coordinates of the idea or point you want to compare to\n",
    "idea_lat = 30.071  # Example latitude\n",
    "idea_lon = 20.152  # Example longitude\n",
    "\n",
    "\n",
    "df = pd.DataFrame(df_fall)\n",
    "\n",
    "# Define a threshold distance (in kilometers) for similarity\n",
    "threshold_distance = 10000  # Adjust this as needed\n",
    "\n",
    "# Calculate the distance between the idea coordinates and all locations in the DataFrame\n",
    "df['Distance'] = df.apply(lambda row: geodesic((idea_lat, idea_lon), (row['reclat'], row['reclong'])).kilometers, axis=1)\n",
    "\n",
    "# Filter locations that are similar based on the threshold\n",
    "similar_locations = df[df['Distance'] <= threshold_distance]\n",
    "\n",
    "# Display the similar locations\n",
    "print(similar_locations)\n"
   ]
  },
  {
   "cell_type": "code",
   "execution_count": 35,
   "id": "921b7aaf",
   "metadata": {},
   "outputs": [
    {
     "name": "stdout",
     "output_type": "stream",
     "text": [
      "The most common value in 'Class' column is: L6\n"
     ]
    }
   ],
   "source": [
    "# Assuming you have a DataFrame called 'df' with a column 'Class'\n",
    "most_common_class = df['recclass'].value_counts().idxmax()\n",
    "\n",
    "print(\"The most common value in 'Class' column is:\", most_common_class)\n"
   ]
  },
  {
   "cell_type": "markdown",
   "id": "ab533f5a",
   "metadata": {},
   "source": [
    "From the above code we can say that L6 is the most common class of meteroids that has fallen on the earth and ideal latitude and longitude location is nearer to (30.0712,20.152)"
   ]
  },
  {
   "cell_type": "code",
   "execution_count": null,
   "id": "5fecee81",
   "metadata": {},
   "outputs": [],
   "source": []
  }
 ],
 "metadata": {
  "kernelspec": {
   "display_name": "Python 3 (ipykernel)",
   "language": "python",
   "name": "python3"
  },
  "language_info": {
   "codemirror_mode": {
    "name": "ipython",
    "version": 3
   },
   "file_extension": ".py",
   "mimetype": "text/x-python",
   "name": "python",
   "nbconvert_exporter": "python",
   "pygments_lexer": "ipython3",
   "version": "3.9.12"
  }
 },
 "nbformat": 4,
 "nbformat_minor": 5
}
